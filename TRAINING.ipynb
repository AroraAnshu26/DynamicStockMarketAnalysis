{
 "cells": [
  {
   "cell_type": "code",
   "execution_count": 1,
   "metadata": {},
   "outputs": [
    {
     "name": "stderr",
     "output_type": "stream",
     "text": [
      "2023-12-25 23:15:55.327712: I tensorflow/tsl/cuda/cudart_stub.cc:28] Could not find cuda drivers on your machine, GPU will not be used.\n",
      "2023-12-25 23:15:55.566815: I tensorflow/tsl/cuda/cudart_stub.cc:28] Could not find cuda drivers on your machine, GPU will not be used.\n",
      "2023-12-25 23:15:55.568146: I tensorflow/core/platform/cpu_feature_guard.cc:182] This TensorFlow binary is optimized to use available CPU instructions in performance-critical operations.\n",
      "To enable the following instructions: AVX2 FMA, in other operations, rebuild TensorFlow with the appropriate compiler flags.\n",
      "2023-12-25 23:15:56.884965: W tensorflow/compiler/tf2tensorrt/utils/py_utils.cc:38] TF-TRT Warning: Could not find TensorRT\n"
     ]
    }
   ],
   "source": [
    "import tensorflow as tf\n",
    "from tensorflow import keras\n",
    "from keras import models, datasets, layers\n",
    "from keras.datasets import mnist\n",
    "from matplotlib import pyplot as plt\n",
    "import numpy as np\n",
    "import random\n",
    "from tvDatafeed import TvDatafeed, Interval\n",
    "import pandas as pd\n",
    "import talib as tb\n",
    "import time\n",
    "import os\n",
    "# import pywhatkit\n",
    "import matplotlib.pyplot as plt\n",
    "#from warnings import simplefilt"
   ]
  },
  {
   "cell_type": "markdown",
   "metadata": {},
   "source": [
    "Training data is the data of the previous day<br>\n",
    "i.e. we are considering trading only at the opening and closing of the market"
   ]
  },
  {
   "cell_type": "code",
   "execution_count": null,
   "metadata": {},
   "outputs": [],
   "source": [
    "n50_symbols=np.array(['NIFTY', 'HINDALCO', 'MARUTI', 'NESTLEIND', 'ONGC', 'TATAMOTORS', 'ITC', 'SUNPHARMA', 'BHARTIARTL', 'CIPLA', 'DIVISLAB', 'JSWSTEEL', 'HINDUNILVR', 'TITAN', 'NTPC', 'TATASTEEL', 'HEROMOTOCO', 'HDFCLIFE', 'ULTRACEMCO', 'SBILIFE', 'TCS', 'BAJFINANCE', 'BRITANNIA', 'AXISBANK', 'TECHM', 'COALINDIA', 'LT', 'DRREDDY', 'M_M', 'APOLLOHOSP', 'ADANIPORTS', 'BAJAJFINSV', 'GRASIM', 'TATACONSUM', 'ICICIBANK', 'HDFCBANK', 'EICHERMOT', 'BPCL', 'ADANIENT', 'UPL', 'POWERGRID', 'HDFCBANK', 'INFY', 'WIPRO', 'RELIANCE', 'INDUSINDBK', 'ASIANPAINT', 'HCLTECH', 'KOTAKBANK', 'BAJAJ_AUTO', 'SBIN'])\n",
    "\n",
    "folder_name = 'Daily_historical_data'\n",
    "\n",
    "X_train=[]\n",
    "y_train=[]\n",
    "y_train_pos=[]\n",
    "gain=[]\n",
    "\n",
    "\n",
    "for i in range(51):\n",
    "    file_name = f'{n50_symbols[i]}.csv'\n",
    "    file_path = os.path.join(folder_name, file_name)\n",
    "    df=pd.read_csv(file_path)\n",
    "    df['datetime']=pd.to_datetime(df['datetime'])\n",
    "    df['year'] = df['datetime'].dt.year\n",
    "    # df['month'] = df['datetime'].dt.month\n",
    "    # df['day_of_week'] = df['datetime'].dt.dayofweek\n",
    "    df['hour'] = df['datetime'].dt.hour\n",
    "    df['minute'] = df['datetime'].dt.minute\n",
    "\n",
    "    start_ind=[]\n",
    "    for j in range(len(df.index)):\n",
    "        if df['hour'][j]==9 and df['minute'][j]==15: # Getting the indices where the trading day starts\n",
    "            start_ind.append(j)\n",
    "    end_ind=[] # end of the day indices\n",
    "    for j in range(1,len(start_ind)): #starting from 1 because we dont want an end without the start of a day which is the case for start_of_day[0]-1\n",
    "        end_ind.append(start_ind[j]-1)\n",
    "\n",
    "    # print(start_ind)\n",
    "    # print(end_ind)    \n",
    "\n",
    "    if len(start_ind)>len(end_ind):\n",
    "        start_ind=start_ind[:-1]\n",
    "\n",
    "    # print(start_ind)\n",
    "    # print(end_ind)\n",
    "    j=0\n",
    "    while j<len(start_ind):\n",
    "        if end_ind[j]-start_ind[j]!=74:\n",
    "            end_ind.remove(end_ind[j])\n",
    "            start_ind.remove(start_ind[j])\n",
    "            continue\n",
    "        #print(df.iloc[start_ind[j]+2:end_ind[j]-2])\n",
    "        df_new=df.iloc[start_ind[j]+2:end_ind[j]-2].drop(['symbol','datetime','year','hour','minute'],axis=1)\n",
    "        X_train.append(df_new.values.flatten())\n",
    "        j+=1\n",
    "    print(i)\n",
    "\n",
    "    for j in end_ind:\n",
    "        gain_inst=(df['close'][j+2]-df['close'][j-2])*100/df['close'][j-2] # gain at the particular instant\n",
    "        gain.append(gain_inst)  # i+2 indicates the next day at 9:20(as we need to let the price settle) and i-2 at time 3:15 as we need to trade before the day ends and we cant trade ecaxtly at the end of the day\n",
    "        if gain_inst>=0.1:\n",
    "            y_train_pos.append(1)\n",
    "        elif gain_inst<-0.1:\n",
    "            y_train_pos.append(-1)\n",
    "        else:\n",
    "            y_train_pos.append(0)\n",
    "            \n",
    "y_train=gain"
   ]
  }
 ],
 "metadata": {
  "kernelspec": {
   "display_name": "Python 3",
   "language": "python",
   "name": "python3"
  },
  "language_info": {
   "codemirror_mode": {
    "name": "ipython",
    "version": 3
   },
   "file_extension": ".py",
   "mimetype": "text/x-python",
   "name": "python",
   "nbconvert_exporter": "python",
   "pygments_lexer": "ipython3",
   "version": "3.10.12"
  }
 },
 "nbformat": 4,
 "nbformat_minor": 2
}
